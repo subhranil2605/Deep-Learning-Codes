{
 "cells": [
  {
   "cell_type": "code",
   "execution_count": 27,
   "metadata": {
    "pycharm": {
     "name": "#%%\n"
    }
   },
   "outputs": [],
   "source": [
    "import numpy as np\n",
    "from numpy import ndarray\n",
    "from abc import ABC, abstractmethod"
   ]
  },
  {
   "cell_type": "code",
   "execution_count": 28,
   "metadata": {},
   "outputs": [],
   "source": [
    "def assert_same_shape(array: ndarray, array_grad: ndarray):\n",
    "    assert array.shape == array_grad.shape, \\\n",
    "    f'''\n",
    "    Two ndarrays should have the same shape;\n",
    "    instead, first ndarray's shape is {array.shape}\n",
    "    and second ndarray's shape is {array_grad.shape}\n",
    "    '''\n",
    "    return None"
   ]
  },
  {
   "cell_type": "markdown",
   "metadata": {},
   "source": [
    "<h1> <code>Operation</code> and <code>ParamOperation</code></h1>"
   ]
  },
  {
   "cell_type": "code",
   "execution_count": 29,
   "metadata": {},
   "outputs": [],
   "source": [
    "# abstract class for any Operation\n",
    "class Operation(ABC):\n",
    "    def __init__(self):\n",
    "        pass\n",
    "    \n",
    "    def forward(self, input_: ndarray):\n",
    "        '''\n",
    "        Stores input in the self._input instance variable \n",
    "        Calls the self._output() function\n",
    "        '''\n",
    "        self.input_ = input_\n",
    "        \n",
    "        self.output = self._output()\n",
    "        \n",
    "        return self.output\n",
    "    \n",
    "    \n",
    "    def backward(self, output_grad: ndarray):\n",
    "        '''\n",
    "        Calls the self._input_grad() function.\n",
    "        Checks that the appropriate shapes match.\n",
    "        '''\n",
    "        assert_same_shape(self.output, output_grad)\n",
    "        \n",
    "        self.input_grad = self._input_grad(output_grad)\n",
    "        \n",
    "        assert_same_shape(self.input_, self._input_grad)\n",
    "        \n",
    "        return self.input_grad\n",
    "    \n",
    "    @abstractmethod\n",
    "    def _output(self): \n",
    "        '''\n",
    "        The output method must be defined for each Operation\n",
    "        '''\n",
    "        pass\n",
    "    \n",
    "    \n",
    "    @abstractmethod\n",
    "    def _input_grad(self, output_grad: ndarray) -> ndarray:\n",
    "        '''\n",
    "        The _input_grad method must be defined for each Operation\n",
    "        '''\n",
    "        pass\n",
    "    "
   ]
  },
  {
   "cell_type": "code",
   "execution_count": 30,
   "metadata": {},
   "outputs": [],
   "source": [
    "# Another abstract class for \"parameter\" operations\n",
    "class ParamOperation(Operation):\n",
    "    \n",
    "    def __init__(self, param: ndarray):\n",
    "        super().__init__()\n",
    "        self.param = param\n",
    "        \n",
    "    \n",
    "    def backward(self, output_grad: ndarray):\n",
    "        '''\n",
    "        Calls the self._input_grad and self._param_grad.\n",
    "        Checks appropriate shapes\n",
    "        '''\n",
    "        assert_same_shape(self.output, output_grad)\n",
    "        \n",
    "        self.input_grad = self._input_grad(output_grad)\n",
    "        self.param_grad = self._param_grad(output_grad)\n",
    "        \n",
    "        assert_same_shape(self.input_, self.input_grad)\n",
    "        assert_same_shape(self.param, self.param_grad)\n",
    "    \n",
    "    \n",
    "    @abstractmethod\n",
    "    def _param_grad(self, output_grad: ndarray):\n",
    "        '''\n",
    "        Every subclass of ParamOperation must implement _param_grad\n",
    "        '''\n",
    "        pass"
   ]
  },
  {
   "cell_type": "markdown",
   "metadata": {},
   "source": [
    "# Specific Operations"
   ]
  },
  {
   "cell_type": "markdown",
   "metadata": {},
   "source": [
    "## 1. weight multiply"
   ]
  },
  {
   "cell_type": "code",
   "execution_count": 40,
   "metadata": {},
   "outputs": [],
   "source": [
    "class WeightMultiply(ParamOperation):\n",
    "    '''\n",
    "    Weight multiplication operation for a neural network\n",
    "    '''\n",
    "    def __init__(self, W: ndarray):\n",
    "        '''Initialize Operation with self.param = W'''\n",
    "        super().__init__(W)\n",
    "        \n",
    "    \n",
    "    def _output(self) -> ndarray:\n",
    "        '''Compute the output'''\n",
    "        return np.dot(self.input_, self.param)\n",
    "    \n",
    "    \n",
    "    def _input_grad(self, output_grad: ndarray) -> ndarray: \n",
    "        '''Compute the gradient'''\n",
    "        return np.dot(output_grad, np.transpose(self.param, (1, 0)))\n",
    "    \n",
    "    \n",
    "    def _param_grad(self, output_grad: ndarray) -> ndarray:\n",
    "        '''Compute the parameter gradient'''\n",
    "        return np.dot(np.transpose(self.input_, (1, 0)), output_grad) \n",
    "        "
   ]
  },
  {
   "cell_type": "markdown",
   "metadata": {},
   "source": [
    "## 2. bias add"
   ]
  },
  {
   "cell_type": "code",
   "execution_count": 33,
   "metadata": {},
   "outputs": [],
   "source": [
    "class BiasAdd(ParamOperation):\n",
    "    '''\n",
    "    Compute bias addition\n",
    "    '''\n",
    "    \n",
    "    def __init__(self, B: ndarray):\n",
    "        \n",
    "        assert B.shape[0] == 1\n",
    "        \n",
    "        super().__init__(B)\n",
    "        \n",
    "    \n",
    "    def _output(self) -> ndarray:\n",
    "        '''\n",
    "        Compute output\n",
    "        '''\n",
    "        return self.input_ + self.param\n",
    "    \n",
    "    \n",
    "    def _input_grad(self, output_grad: ndarray):\n",
    "        '''\n",
    "        Compute input gradient\n",
    "        '''\n",
    "        return np.ones_like(self.input_) * output_grad\n",
    "    \n",
    "    \n",
    "    def _param_grad(self, ouput_grad: ndarray):\n",
    "        '''Compute the param grad'''\n",
    "        param_grad = np.ones_like(self.param) * output_grad\n",
    "        return np.sum(param_grad, axis=0).reshape(1, param_grad.shape[1])"
   ]
  },
  {
   "cell_type": "code",
   "execution_count": 37,
   "metadata": {},
   "outputs": [
    {
     "name": "stdout",
     "output_type": "stream",
     "text": [
      "[[0.54340494 0.27836939 0.42451759]\n",
      " [0.84477613 0.00471886 0.12156912]\n",
      " [0.67074908 0.82585276 0.13670659]\n",
      " [0.57509333 0.89132195 0.20920212]\n",
      " [0.18532822 0.10837689 0.21969749]\n",
      " [0.97862378 0.81168315 0.17194101]\n",
      " [0.81622475 0.27407375 0.43170418]\n",
      " [0.94002982 0.81764938 0.33611195]\n",
      " [0.17541045 0.37283205 0.00568851]\n",
      " [0.25242635 0.79566251 0.01525497]]\n"
     ]
    }
   ],
   "source": [
    "np.random.seed(100)\n",
    "\n",
    "X = np.random.random((10, 3))\n",
    "\n",
    "print(X)"
   ]
  },
  {
   "cell_type": "code",
   "execution_count": 38,
   "metadata": {},
   "outputs": [
    {
     "name": "stdout",
     "output_type": "stream",
     "text": [
      "[[0.59884338]\n",
      " [0.60380454]\n",
      " [0.10514769]]\n"
     ]
    }
   ],
   "source": [
    "W = np.random.random((X.shape[1], 1))\n",
    "\n",
    "print(W)"
   ]
  },
  {
   "cell_type": "code",
   "execution_count": 41,
   "metadata": {},
   "outputs": [],
   "source": [
    "w = WeightMultiply(W)"
   ]
  },
  {
   "cell_type": "code",
   "execution_count": 44,
   "metadata": {},
   "outputs": [
    {
     "data": {
      "text/plain": [
       "array([[0.53813219],\n",
       "       [0.52152057],\n",
       "       [0.91470167],\n",
       "       [0.90457219],\n",
       "       [0.19952172],\n",
       "       [1.09421954],\n",
       "       [0.69967045],\n",
       "       [1.09197243],\n",
       "       [0.3307592 ],\n",
       "       [0.63319251]])"
      ]
     },
     "execution_count": 44,
     "metadata": {},
     "output_type": "execute_result"
    }
   ],
   "source": [
    "w.backward(X)"
   ]
  },
  {
   "cell_type": "code",
   "execution_count": null,
   "metadata": {},
   "outputs": [],
   "source": []
  }
 ],
 "metadata": {
  "kernelspec": {
   "display_name": "Python 3 (ipykernel)",
   "language": "python",
   "name": "python3"
  },
  "language_info": {
   "codemirror_mode": {
    "name": "ipython",
    "version": 3
   },
   "file_extension": ".py",
   "mimetype": "text/x-python",
   "name": "python",
   "nbconvert_exporter": "python",
   "pygments_lexer": "ipython3",
   "version": "3.10.4"
  }
 },
 "nbformat": 4,
 "nbformat_minor": 1
}
